{
 "cells": [
  {
   "cell_type": "code",
   "execution_count": 14,
   "id": "999134dd",
   "metadata": {},
   "outputs": [],
   "source": [
    "import cv2\n",
    "import numpy as np\n",
    "import os\n",
    "from sklearn.cluster import DBSCAN"
   ]
  },
  {
   "cell_type": "code",
   "execution_count": 15,
   "id": "3bcd4e98",
   "metadata": {},
   "outputs": [],
   "source": [
    "def load_and_preprocess_image(image_path):\n",
    "    \"\"\"\n",
    "    Load the image and preprocess it: grayscale, Gaussian blur, and thresholding.\n",
    "    \"\"\"\n",
    "    image = cv2.imread(image_path, cv2.IMREAD_COLOR)\n",
    "    if image is None:\n",
    "        raise FileNotFoundError(f\"Error: Could not load image {image_path}\")\n",
    "\n",
    "    gray = cv2.cvtColor(image, cv2.COLOR_BGR2GRAY)\n",
    "    blurred = cv2.GaussianBlur(gray, (5, 5), 0)\n",
    "    _, binary = cv2.threshold(blurred, 127, 255, cv2.THRESH_BINARY_INV)\n",
    "    return image, binary"
   ]
  },
  {
   "cell_type": "code",
   "execution_count": 16,
   "id": "e560bd1e",
   "metadata": {},
   "outputs": [],
   "source": [
    "def extract_and_describe_contours(binary_image):\n",
    "    \"\"\"\n",
    "    Extract contours and compute centroids and angles for each contour.\n",
    "    \"\"\"\n",
    "    contours, _ = cv2.findContours(binary_image, cv2.RETR_EXTERNAL, cv2.CHAIN_APPROX_SIMPLE)\n",
    "    contour_data = []\n",
    "    for contour in contours:\n",
    "        M = cv2.moments(contour)\n",
    "        if M[\"m00\"] == 0:\n",
    "            continue\n",
    "        cX = int(M[\"m10\"] / M[\"m00\"])  # Centroid X\n",
    "        cY = int(M[\"m01\"] / M[\"m00\"])  # Centroid Y\n",
    "        rect = cv2.minAreaRect(contour)\n",
    "        angle = rect[-1]  # Angle of the rectangle\n",
    "        contour_data.append({\"contour\": contour, \"centroid\": (cX, cY), \"angle\": angle})\n",
    "    return contour_data"
   ]
  },
  {
   "cell_type": "code",
   "execution_count": 17,
   "id": "e3bdbd61",
   "metadata": {},
   "outputs": [],
   "source": [
    "def cluster_contours(contour_data, eps=50, min_samples=2):\n",
    "    \"\"\"\n",
    "    Cluster contours based on centroids and angles using DBSCAN.\n",
    "    \"\"\"\n",
    "    features = []\n",
    "    for data in contour_data:\n",
    "        cX, cY = data[\"centroid\"]\n",
    "        angle = data[\"angle\"]\n",
    "        features.append([cX, cY, angle])\n",
    "    features = np.array(features)\n",
    "    dbscan = DBSCAN(eps=eps, min_samples=min_samples)\n",
    "    labels = dbscan.fit_predict(features)\n",
    "    return labels"
   ]
  },
  {
   "cell_type": "code",
   "execution_count": 18,
   "id": "31fc005e",
   "metadata": {},
   "outputs": [],
   "source": [
    "def visualize_clusters(image, contour_data, labels):\n",
    "    \"\"\"\n",
    "    Visualize clusters by coloring each cluster differently.\n",
    "    \"\"\"\n",
    "    result = image.copy()\n",
    "    unique_labels = set(labels)\n",
    "    colors = [tuple(np.random.randint(0, 255, 3).tolist()) for _ in unique_labels]\n",
    "    for i, data in enumerate(contour_data):\n",
    "        contour = data[\"contour\"]\n",
    "        label = labels[i]\n",
    "        if label != -1:\n",
    "            color = colors[label]\n",
    "            cv2.drawContours(result, [contour], -1, color, 2)\n",
    "    return result"
   ]
  },
  {
   "cell_type": "code",
   "execution_count": 19,
   "id": "d285293a",
   "metadata": {},
   "outputs": [],
   "source": [
    "def process_image(image_path, output_path, eps=50, min_samples=2):\n",
    "    \"\"\"\n",
    "    Full pipeline to process a single image: load, preprocess, cluster, and visualize.\n",
    "    \"\"\"\n",
    "    original_image, binary = load_and_preprocess_image(image_path)\n",
    "    contour_data = extract_and_describe_contours(binary)\n",
    "    labels = cluster_contours(contour_data, eps, min_samples)\n",
    "    clustered_image = visualize_clusters(original_image, contour_data, labels)\n",
    "    cv2.imwrite(output_path, clustered_image)\n",
    "    print(f\"Processed image saved to {output_path}\")"
   ]
  },
  {
   "cell_type": "code",
   "execution_count": 20,
   "id": "2874f338",
   "metadata": {},
   "outputs": [
    {
     "name": "stdout",
     "output_type": "stream",
     "text": [
      "Processed image saved to C:/Users/Administrator/Documents/GitHub/Untitled Folder/data/output_gt/raw\\clustered_level_1.PNG\n",
      "Processed image saved to C:/Users/Administrator/Documents/GitHub/Untitled Folder/data/output_gt/raw\\clustered_level_2.PNG\n",
      "Processed image saved to C:/Users/Administrator/Documents/GitHub/Untitled Folder/data/output_gt/raw\\clustered_level_3.PNG\n",
      "Processed image saved to C:/Users/Administrator/Documents/GitHub/Untitled Folder/data/output_gt/raw\\clustered_level_4.PNG\n"
     ]
    }
   ],
   "source": [
    "def batch_process_images(input_folder, output_folder, eps=50, min_samples=2):\n",
    "    \"\"\"\n",
    "    Process all images in the input folder and save them in the output folder.\n",
    "    \"\"\"\n",
    "    if not os.path.exists(output_folder):\n",
    "        os.makedirs(output_folder)\n",
    "    for filename in os.listdir(input_folder):\n",
    "        if filename.lower().endswith(('png', 'jpg', 'jpeg')):\n",
    "            input_path = os.path.join(input_folder, filename)\n",
    "            output_path = os.path.join(output_folder, f\"clustered_{filename}\")\n",
    "            process_image(input_path, output_path, eps, min_samples)\n",
    "\n",
    "# Example usage\n",
    "input_dir = r\"C:/Users/Administrator/Documents/GitHub/Untitled Folder/data/input/raw\"\n",
    "output_dir = r\"C:/Users/Administrator/Documents/GitHub/Untitled Folder/data/output_gt/raw\"\n",
    "\n",
    "batch_process_images(input_dir, output_dir, eps=50, min_samples=3)\n"
   ]
  },
  {
   "cell_type": "code",
   "execution_count": 8,
   "id": "35d9a0b4",
   "metadata": {},
   "outputs": [
    {
     "name": "stdout",
     "output_type": "stream",
     "text": [
      "Note: you may need to restart the kernel to use updated packages.\n"
     ]
    },
    {
     "name": "stderr",
     "output_type": "stream",
     "text": [
      "\n",
      "[notice] A new release of pip is available: 24.0 -> 25.0.1\n",
      "[notice] To update, run: python.exe -m pip install --upgrade pip\n"
     ]
    },
    {
     "name": "stdout",
     "output_type": "stream",
     "text": [
      "Collecting opencv-python-headless\n",
      "  Downloading opencv_python_headless-4.11.0.86-cp37-abi3-win_amd64.whl.metadata (20 kB)\n",
      "Requirement already satisfied: numpy>=1.21.2 in c:\\programdata\\anaconda3\\lib\\site-packages (from opencv-python-headless) (1.24.3)\n",
      "Downloading opencv_python_headless-4.11.0.86-cp37-abi3-win_amd64.whl (39.4 MB)\n",
      "   ---------------------------------------- 0.0/39.4 MB ? eta -:--:--\n",
      "   ---------------------------------------- 0.0/39.4 MB ? eta -:--:--\n",
      "   ---------------------------------------- 0.0/39.4 MB 495.5 kB/s eta 0:01:20\n",
      "   ---------------------------------------- 0.2/39.4 MB 1.4 MB/s eta 0:00:29\n",
      "   ---------------------------------------- 0.3/39.4 MB 2.0 MB/s eta 0:00:20\n",
      "    --------------------------------------- 0.5/39.4 MB 2.4 MB/s eta 0:00:17\n",
      "    --------------------------------------- 0.7/39.4 MB 3.0 MB/s eta 0:00:13\n",
      "   - -------------------------------------- 1.4/39.4 MB 4.5 MB/s eta 0:00:09\n",
      "   -- ------------------------------------- 2.7/39.4 MB 7.6 MB/s eta 0:00:05\n",
      "   ---- ----------------------------------- 4.3/39.4 MB 10.5 MB/s eta 0:00:04\n",
      "   ----- ---------------------------------- 5.1/39.4 MB 11.6 MB/s eta 0:00:03\n",
      "   ------ --------------------------------- 6.3/39.4 MB 12.6 MB/s eta 0:00:03\n",
      "   ------- -------------------------------- 7.9/39.4 MB 14.4 MB/s eta 0:00:03\n",
      "   --------- ------------------------------ 9.4/39.4 MB 15.9 MB/s eta 0:00:02\n",
      "   ----------- ---------------------------- 11.0/39.4 MB 28.5 MB/s eta 0:00:01\n",
      "   ------------ --------------------------- 12.6/39.4 MB 29.8 MB/s eta 0:00:01\n",
      "   -------------- ------------------------- 14.0/39.4 MB 29.7 MB/s eta 0:00:01\n",
      "   --------------- ------------------------ 15.5/39.4 MB 31.2 MB/s eta 0:00:01\n",
      "   ----------------- ---------------------- 17.0/39.4 MB 32.7 MB/s eta 0:00:01\n",
      "   ------------------ --------------------- 18.6/39.4 MB 32.7 MB/s eta 0:00:01\n",
      "   -------------------- ------------------- 20.2/39.4 MB 32.7 MB/s eta 0:00:01\n",
      "   ---------------------- ----------------- 21.8/39.4 MB 32.7 MB/s eta 0:00:01\n",
      "   ----------------------- ---------------- 23.4/39.4 MB 32.8 MB/s eta 0:00:01\n",
      "   ------------------------- -------------- 25.0/39.4 MB 34.4 MB/s eta 0:00:01\n",
      "   --------------------------- ------------ 26.6/39.4 MB 34.4 MB/s eta 0:00:01\n",
      "   ---------------------------- ----------- 28.3/39.4 MB 34.4 MB/s eta 0:00:01\n",
      "   ------------------------------ --------- 29.8/39.4 MB 34.4 MB/s eta 0:00:01\n",
      "   ------------------------------- -------- 31.5/39.4 MB 34.4 MB/s eta 0:00:01\n",
      "   --------------------------------- ------ 33.1/39.4 MB 34.4 MB/s eta 0:00:01\n",
      "   ----------------------------------- ---- 34.7/39.4 MB 34.4 MB/s eta 0:00:01\n",
      "   ------------------------------------ --- 36.3/39.4 MB 34.6 MB/s eta 0:00:01\n",
      "   -------------------------------------- - 37.8/39.4 MB 34.4 MB/s eta 0:00:01\n",
      "   ---------------------------------------  39.4/39.4 MB 34.4 MB/s eta 0:00:01\n",
      "   ---------------------------------------  39.4/39.4 MB 34.4 MB/s eta 0:00:01\n",
      "   ---------------------------------------  39.4/39.4 MB 34.4 MB/s eta 0:00:01\n",
      "   ---------------------------------------  39.4/39.4 MB 34.4 MB/s eta 0:00:01\n",
      "   ---------------------------------------- 39.4/39.4 MB 23.4 MB/s eta 0:00:00\n",
      "Installing collected packages: opencv-python-headless\n",
      "Successfully installed opencv-python-headless-4.11.0.86\n"
     ]
    }
   ],
   "source": [
    "pip install opencv-python-headless"
   ]
  },
  {
   "cell_type": "code",
   "execution_count": null,
   "id": "c67e1a6a",
   "metadata": {},
   "outputs": [],
   "source": []
  }
 ],
 "metadata": {
  "kernelspec": {
   "display_name": "Python 3 (ipykernel)",
   "language": "python",
   "name": "python3"
  },
  "language_info": {
   "codemirror_mode": {
    "name": "ipython",
    "version": 3
   },
   "file_extension": ".py",
   "mimetype": "text/x-python",
   "name": "python",
   "nbconvert_exporter": "python",
   "pygments_lexer": "ipython3",
   "version": "3.11.5"
  }
 },
 "nbformat": 4,
 "nbformat_minor": 5
}
